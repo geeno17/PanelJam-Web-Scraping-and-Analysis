{
 "cells": [
  {
   "cell_type": "markdown",
   "metadata": {
    "slideshow": {
     "slide_type": "slide"
    }
   },
   "source": [
    "# PanelJam Web Scraping\n",
    "## Collaborations Graph construction\n",
    "\n",
    "***PanelJam.com*** is a small online community of artists, on which cartoons are published. In particular each cartoon (also called jam) is made up by different panels drawn by distinct users: so it is the result of some artists collaboration.\n",
    "\n",
    "This script performs a **Web Scraping** activity, analyzing the HTML code of the web pages (so without using any APIs), to get information about collaboration works between the users. This information are used to model an undirected and weighted **Collaborations Graph**. In particular if two users are connected, it means that they worked together on a cartoon: the weight of the edge stands for the number of cartoon on which they worked together."
   ]
  },
  {
   "cell_type": "markdown",
   "metadata": {
    "slideshow": {
     "slide_type": "slide"
    }
   },
   "source": [
    "The used libraries are:\n",
    "- ***requests***: is a Python HTTP library, used to easily make HTTP requests\n",
    "- ***bs4***: BeautifulSoup is a Python library for pulling data out of HTML and XML files. It works with your favorite parser to provide idiomatic ways of navigating, searching, and modifying the parse tree.\n",
    "- ***networkx***:  is a Python library for the creation, manipulation, and study of the structure, dynamics, and functions of complex networks.\n",
    "- ***pickle***: is a library which implements binary protocols for serializing and de-serializing a Python object structure."
   ]
  },
  {
   "cell_type": "code",
   "execution_count": null,
   "metadata": {
    "slideshow": {
     "slide_type": "fragment"
    }
   },
   "outputs": [],
   "source": [
    "import requests\n",
    "import bs4\n",
    "import networkx as nx\n",
    "import re"
   ]
  },
  {
   "cell_type": "markdown",
   "metadata": {
    "slideshow": {
     "slide_type": "slide"
    }
   },
   "source": [
    "The defined functions are:\n",
    "\n",
    "- ***getJamsOnPage ( page )*** : this function takes as input an integer which refers to the page for browsing jams on *PanelJam.com*. It returns a list containing the integer identifier of the jams shown in that page."
   ]
  },
  {
   "cell_type": "code",
   "execution_count": null,
   "metadata": {
    "slideshow": {
     "slide_type": "fragment"
    }
   },
   "outputs": [],
   "source": [
    "def getJamsOnPage(page):\n",
    "    #sends an HTTP request\n",
    "    res = requests.get('https://www.paneljam.com/jams/?page=' + str(page))\n",
    "    #parses the obtained page\n",
    "    soup = bs4.BeautifulSoup(res.text, 'lxml')\n",
    "    #searches all the a elements with class: strip-preview-click, containing jams information\n",
    "    soupJams = soup.findAll(\"a\", {\"class\": \"strip-preview-click\"})\n",
    "    \n",
    "    jamsList = []\n",
    "    \n",
    "    #adds jams identifiers to jamsList\n",
    "    for i in soupJams:\n",
    "        #checks if the retrieved link matches with the pattern\n",
    "        if (re.search(\"^https://www.paneljam.com/jams/\", i['href'])):\n",
    "            jamsList.append(int(i['href'].replace(\"https://www.paneljam.com/jams/\",\"\").replace(\"/panels/\",\"\")))\n",
    "        \n",
    "    return jamsList"
   ]
  },
  {
   "cell_type": "markdown",
   "metadata": {
    "slideshow": {
     "slide_type": "slide"
    }
   },
   "source": [
    "- ***getAuthorsOfJam ( jam )***: this function takes as input the integer identifier of a jam, and returns a list containing the names of its authors."
   ]
  },
  {
   "cell_type": "code",
   "execution_count": null,
   "metadata": {
    "slideshow": {
     "slide_type": "fragment"
    }
   },
   "outputs": [],
   "source": [
    "def getAuthorsOfJam(jam):\n",
    "    #sends an HTTP request\n",
    "    res = requests.get('https://www.paneljam.com/jams/' + str(jam) + '/panels/')\n",
    "    #parses the obtained page\n",
    "    soup = bs4.BeautifulSoup(res.text, 'lxml')\n",
    "    #searches all the div elements with class: left, containing authors information\n",
    "    soupAuthors = soup.find(\"div\", {\"class\": \"left\"}).findAll(\"a\");\n",
    "    \n",
    "    authorsList = []\n",
    "    \n",
    "    #adds authors names to authorsList\n",
    "    for i in soupAuthors:\n",
    "        authorsList.append(i['href'].replace('/',''))\n",
    "    \n",
    "    return authorsList"
   ]
  },
  {
   "cell_type": "markdown",
   "metadata": {
    "slideshow": {
     "slide_type": "slide"
    }
   },
   "source": [
    "The following code is used to get information about collaboration relationships between *PanelJam.com* users, and model a graph through it. In particular this information is taken browsing pages which show all the *PanelJam.com* completed jams, and taking their authors. At last, the obtained graph is saved in a *collaborationGraph.pckl* file."
   ]
  },
  {
   "cell_type": "code",
   "execution_count": null,
   "metadata": {
    "slideshow": {
     "slide_type": "fragment"
    }
   },
   "outputs": [],
   "source": [
    "#imports the friendshipGraph previously built, to get the list of all PanelJam.com users\n",
    "f = open('friendshipGraph.pckl', 'rb')\n",
    "friendshipGraph = pickle.load(f)\n",
    "f.close()\n",
    "\n",
    "#creates an undirected graph, and puts as nodes the PanelJam.com users\n",
    "G = nx.Graph()\n",
    "G.add_nodes_from(list(friendshipGraph.nodes))\n",
    "\n",
    "page = 1\n",
    "while True:\n",
    "    \n",
    "    #print('Page: ' + str(page) + ', nodes: ' + str(len(G.nodes)) + ', edges: ' + str(len(G.edges)))\n",
    "    \n",
    "    #gets the jams shown on nth page\n",
    "    jams = getJamsOnPage(page)\n",
    "    \n",
    "    #if the nth page is empty, jams searching is interrupted\n",
    "    if len(jams) > 0:\n",
    "        \n",
    "        for p in jams:\n",
    "            \n",
    "            #gets the authors of the jam, and adds them as nodes in the graph\n",
    "            authors = getAuthorsOfJam(p)            \n",
    "            G.add_nodes_from(authors)\n",
    "            \n",
    "            #adds or updates the edges weight between the jam authors\n",
    "            i = 0\n",
    "            while (i < len(authors)):\n",
    "                j = i + 1\n",
    "                while (j < len(authors)):\n",
    "                    \n",
    "                    if G.has_edge(authors[i], authors[j]):\n",
    "                        G[authors[i]][authors[j]]['weight'] = G[authors[i]][authors[j]]['weight'] + 1\n",
    "                    else:\n",
    "                        G.add_edge( authors[i], authors[j], weight = 1)                        \n",
    "                    \n",
    "                    j = j + 1\n",
    "                i = i + 1\n",
    "        \n",
    "    else:\n",
    "        break\n",
    "    \n",
    "    #moves to the next page\n",
    "    page = page + 1\n",
    "            \n",
    "#saves the graph\n",
    "f = open('collaborationGraph.pckl', 'wb')\n",
    "pickle.dump(G, f)\n",
    "f.close()"
   ]
  }
 ],
 "metadata": {
  "celltoolbar": "Slideshow",
  "kernelspec": {
   "display_name": "Python 3",
   "language": "python",
   "name": "python3"
  },
  "language_info": {
   "codemirror_mode": {
    "name": "ipython",
    "version": 3
   },
   "file_extension": ".py",
   "mimetype": "text/x-python",
   "name": "python",
   "nbconvert_exporter": "python",
   "pygments_lexer": "ipython3",
   "version": "3.7.4"
  }
 },
 "nbformat": 4,
 "nbformat_minor": 2
}
