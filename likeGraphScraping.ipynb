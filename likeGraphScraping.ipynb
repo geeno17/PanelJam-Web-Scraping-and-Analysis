{
 "cells": [
  {
   "cell_type": "markdown",
   "metadata": {
    "slideshow": {
     "slide_type": "slide"
    }
   },
   "source": [
    "# PanelJam Web Scraping\n",
    "## Liked Jams Graph construction\n",
    "\n",
    "***PanelJam.com*** is a small online community of artists, on which cartoons are published. In particular each cartoon (also called jam) is made up by different panels drawn by distinct users: so its the result of some artists collaboration.\n",
    "\n",
    "This script performs a **Web Scraping** activity, analyzing the HTML code of the web pages (so without using any APIs), to get information about jams liked by users. This information are used to model a directed and weighted **Liked Jams Graph**. In particular if an user is connected to another one, it means that the first one liked a jam on which the second one has worked: the weight of the edge stands for the number of liked jams."
   ]
  },
  {
   "cell_type": "markdown",
   "metadata": {
    "slideshow": {
     "slide_type": "slide"
    }
   },
   "source": [
    "The used libraries are:\n",
    "- ***requests***: is a Python HTTP library, used to easily make HTTP requests\n",
    "- ***bs4***: BeautifulSoup is a Python library for pulling data out of HTML and XML files. It works with your favorite parser to provide idiomatic ways of navigating, searching, and modifying the parse tree.\n",
    "- ***networkx***:  is a Python library for the creation, manipulation, and study of the structure, dynamics, and functions of complex networks.\n",
    "- ***pickle***: is a library which implements binary protocols for serializing and de-serializing a Python object structure.\n",
    "- ***re***: RegEx is a Python library, which can be used to work with Regular Expressions."
   ]
  },
  {
   "cell_type": "code",
   "execution_count": null,
   "metadata": {
    "slideshow": {
     "slide_type": "fragment"
    }
   },
   "outputs": [],
   "source": [
    "import requests\n",
    "import bs4\n",
    "import networkx as nx\n",
    "import pickle\n",
    "import re"
   ]
  },
  {
   "cell_type": "markdown",
   "metadata": {
    "slideshow": {
     "slide_type": "slide"
    }
   },
   "source": [
    "The defined functions are:\n",
    "\n",
    "- ***getJamsLikedBy ( user )*** : this function takes as input the input of a user, and returns a list containing the identifiers of jams liked by that user."
   ]
  },
  {
   "cell_type": "code",
   "execution_count": null,
   "metadata": {
    "slideshow": {
     "slide_type": "fragment"
    }
   },
   "outputs": [],
   "source": [
    "def getJamsLikedBy( user ):\n",
    "    \n",
    "    jamsList = []\n",
    "    \n",
    "    page = 1\n",
    "    while True:\n",
    "        \n",
    "        #print(\"  Panels liked by \" + user + \": page \" + str(page))\n",
    "        \n",
    "        #sends an HTTP request\n",
    "        res = requests.get('https://www.paneljam.com/' + str(user) + '/liked/?page=' + str(page))\n",
    "        #parses the obtained page\n",
    "        soup = bs4.BeautifulSoup(res.text, 'lxml')\n",
    "        #searches all the a elements with class: strip-preview-click, containing liked jams information\n",
    "        soupJams = soup.findAll(\"a\", {\"class\": \"strip-preview-click\"})\n",
    "        \n",
    "        #if the nth page is empty, jams searching is interrupted\n",
    "        if len(soupJams) > 0:\n",
    "            \n",
    "            #adds jams to jamsList\n",
    "            for i in soupJams:\n",
    "                jamsList.append(int(i['href'].replace(\"/jams/\",\"\").replace(\"/panels/\",\"\")))                            \n",
    "\n",
    "        else:                \n",
    "            break\n",
    "        \n",
    "        #move to the next page\n",
    "        page = page + 1    \n",
    "        \n",
    "    return jamsList"
   ]
  },
  {
   "cell_type": "markdown",
   "metadata": {
    "slideshow": {
     "slide_type": "slide"
    }
   },
   "source": [
    "- ***getAuthorsOfJam ( jam )***: this function takes as input the integer identifier of a jam, and returns a list containing the names of its authors."
   ]
  },
  {
   "cell_type": "code",
   "execution_count": null,
   "metadata": {
    "slideshow": {
     "slide_type": "fragment"
    }
   },
   "outputs": [],
   "source": [
    "def getAuthorsOfJam(jam):\n",
    "    #sends an HTTP request\n",
    "    res = requests.get('https://www.paneljam.com/jams/' + str(jam) + '/panels/')\n",
    "    #parses the obtained page\n",
    "    soup = bs4.BeautifulSoup(res.text, 'lxml')\n",
    "    #searches all the div elements with class: left, containing authors information\n",
    "    soupAuthors = soup.find(\"div\", {\"class\": \"left\"}).findAll(\"a\");\n",
    "    \n",
    "    authorsList = []\n",
    "    \n",
    "    #adds authors names to authorsList\n",
    "    for i in soupAuthors:\n",
    "        authorsList.append(i['href'].replace('/',''))\n",
    "    \n",
    "    return authorsList"
   ]
  },
  {
   "cell_type": "markdown",
   "metadata": {
    "slideshow": {
     "slide_type": "slide"
    }
   },
   "source": [
    "The following code is used to get information about jams liked by users on *PanelJam.com*, and model a graph through it. In particular this information is taken browsing users profile pages, and accessing to their liked jams. At last, the obtained graph is saved in a *likeGraph.pckl* file."
   ]
  },
  {
   "cell_type": "code",
   "execution_count": null,
   "metadata": {
    "slideshow": {
     "slide_type": "fragment"
    }
   },
   "outputs": [],
   "source": [
    "#imports the friendshipGraph previously built, to get the list of all PanelJam.com users\n",
    "f = open('friendshipGraph.pckl', 'rb')\n",
    "friendshipGraph = pickle.load(f)\n",
    "f.close()\n",
    "users = list(friendshipGraph.nodes)\n",
    "\n",
    "#creates an empty oriented graph \n",
    "G = nx.DiGraph()\n",
    "\n",
    "for u in users:\n",
    "    \n",
    "    #print(\"User \" + str(users.index(u) + 1) + \" of \" + str(len(users)))\n",
    "    \n",
    "    #gets the jams liked by nth user\n",
    "    jams = getJamsLikedBy(u)\n",
    "    \n",
    "    likedAuthors = []\n",
    "    \n",
    "    #gets the authors of liked jams, and adds it to likedAuthors\n",
    "    for j in jams:\n",
    "        \n",
    "        #print(\"  getting authors of jam \" + str(jams.index(j) + 1) + \" of \" + str(len(jams)))\n",
    "        \n",
    "        authors = getAuthorsOfJam(j)        \n",
    "        likedAuthors = likedAuthors + authors\n",
    "    \n",
    "    #Adds the nth user and the authors of liked jams, as nodes of the graph\n",
    "    G.add_nodes_from([u] + likedAuthors)\n",
    "    \n",
    "    #adds or updates edges between users\n",
    "    for l in likedAuthors:\n",
    "        \n",
    "        #this is avoided if the nth user and jam author are the same\n",
    "        if u != l:\n",
    "            \n",
    "            if G.has_edge(u,l):               \n",
    "                G[u][l]['weight'] = G[u][l]['weight'] + 1\n",
    "                \n",
    "            else:                \n",
    "                G.add_edge(u, l, weight = 1)\n",
    "            \n",
    "#saves the graph\n",
    "f = open('likeGraph.pckl', 'wb')\n",
    "pickle.dump(G, f)\n",
    "f.close()"
   ]
  }
 ],
 "metadata": {
  "celltoolbar": "Slideshow",
  "kernelspec": {
   "display_name": "Python 3",
   "language": "python",
   "name": "python3"
  },
  "language_info": {
   "codemirror_mode": {
    "name": "ipython",
    "version": 3
   },
   "file_extension": ".py",
   "mimetype": "text/x-python",
   "name": "python",
   "nbconvert_exporter": "python",
   "pygments_lexer": "ipython3",
   "version": "3.7.4"
  }
 },
 "nbformat": 4,
 "nbformat_minor": 2
}
