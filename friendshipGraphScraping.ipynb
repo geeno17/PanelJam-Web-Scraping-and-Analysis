{
 "cells": [
  {
   "cell_type": "markdown",
   "metadata": {
    "slideshow": {
     "slide_type": "slide"
    }
   },
   "source": [
    "# PanelJam Web Scraping\n",
    "## Friendships Graph construction\n",
    "\n",
    "***PanelJam.com*** is a small online community of artists, on which cartoons are published. In particular each cartoon (also called jam) is made up by different panels drawn by distinct users: so it is the result of some artists collaboration.\n",
    "\n",
    "This script performs a **Web Scraping** activity, analyzing the HTML code of the web pages (so without using any APIs), to get information about friendship relationships between the users. This information are used to model an undirected **Friendships Graph**."
   ]
  },
  {
   "cell_type": "markdown",
   "metadata": {
    "slideshow": {
     "slide_type": "slide"
    }
   },
   "source": [
    "The used libraries are:\n",
    "- ***requests***: is a Python HTTP library, used to easily make HTTP requests\n",
    "- ***bs4***: BeautifulSoup is a Python library for pulling data out of HTML and XML files. It works with your favorite parser to provide idiomatic ways of navigating, searching, and modifying the parse tree.\n",
    "- ***networkx***:  is a Python library for the creation, manipulation, and study of the structure, dynamics, and functions of complex networks.\n",
    "- ***pickle***: is a library which implements binary protocols for serializing and de-serializing a Python object structure."
   ]
  },
  {
   "cell_type": "code",
   "execution_count": null,
   "metadata": {
    "slideshow": {
     "slide_type": "fragment"
    }
   },
   "outputs": [],
   "source": [
    "import requests\n",
    "import bs4\n",
    "import networkx as nx\n",
    "import pickle"
   ]
  },
  {
   "cell_type": "markdown",
   "metadata": {
    "slideshow": {
     "slide_type": "slide"
    }
   },
   "source": [
    "The defined functions are:\n",
    "\n",
    "- ***getUsersOnPage ( page )*** : this function takes as input an integer which refers to the page for browsing users on *PanelJam.com*. It returns a list containing the names of the users shown in that page."
   ]
  },
  {
   "cell_type": "code",
   "execution_count": null,
   "metadata": {
    "slideshow": {
     "slide_type": "fragment"
    }
   },
   "outputs": [],
   "source": [
    "def getUsersOnPage(page):\n",
    "    #sends an HTTP request\n",
    "    res = requests.get('https://www.paneljam.com/stars/?page=' + str(page))\n",
    "    #parses the obtained page\n",
    "    soup = bs4.BeautifulSoup(res.text, 'lxml')\n",
    "    #searches all the a elements with class: strip-preview-click, containing users information\n",
    "    soupUsers = soup.findAll(\"a\", {\"class\": \"strip-preview-click\"})\n",
    "    \n",
    "    usersList = []\n",
    "    \n",
    "    #adds users names to usersList\n",
    "    for i in soupUsers:\n",
    "        usersList.append(i['href'].replace('/',''))\n",
    "        \n",
    "    return usersList"
   ]
  },
  {
   "cell_type": "markdown",
   "metadata": {
    "slideshow": {
     "slide_type": "slide"
    }
   },
   "source": [
    "- ***getFriendsOf ( user )***: this function takes as input the name of a user, and returns a list containing the names of his friends on *Paneljam.com*"
   ]
  },
  {
   "cell_type": "code",
   "execution_count": null,
   "metadata": {
    "slideshow": {
     "slide_type": "fragment"
    }
   },
   "outputs": [],
   "source": [
    "def getFriendsOf(name):\n",
    "    #sends an HTTP request\n",
    "    res = requests.get('https://www.paneljam.com/' + name + '/friends/')\n",
    "    #parses the obtained page\n",
    "    soup = bs4.BeautifulSoup(res.text, 'lxml')\n",
    "    #searches all the a elements with class: box group, containing users friends information\n",
    "    soupFriends = soup.findAll(\"div\", {\"class\": \"box group\"})\n",
    "    \n",
    "    friendsList = []\n",
    "    \n",
    "    #adds friends names to friendsList\n",
    "    for i in soupFriends:\n",
    "        friendsList.append(i.find('a')['href'].replace('/','').replace('%20',' '))\n",
    "        \n",
    "    return friendsList"
   ]
  },
  {
   "cell_type": "markdown",
   "metadata": {
    "slideshow": {
     "slide_type": "slide"
    }
   },
   "source": [
    "The following code is used to get information about friendship relationships between *PanelJam.com* users, and model a graph through it. In particular this information is taken browsing pages which show all the *PanelJam.com* users, oredered by their score on the platform. At last, the obtained graph is saved in a *friendshipGraph.pckl* file."
   ]
  },
  {
   "cell_type": "code",
   "execution_count": null,
   "metadata": {
    "slideshow": {
     "slide_type": "fragment"
    }
   },
   "outputs": [],
   "source": [
    "#creates an empty undirected graph\n",
    "G = nx.Graph()\n",
    "\n",
    "page = 1\n",
    "while True:\n",
    "    \n",
    "    #print('Page: ' + str(page) + ', nodes: ' + str(len(G.nodes)) + ', edges: ' + str(len(G.edges)))\n",
    "    \n",
    "    #gets the users shown on nth page\n",
    "    users = getUsersOnPage(page)\n",
    "    \n",
    "    #if the nth page is empty, users searching is interrupted\n",
    "    if len(users) > 0:\n",
    "        \n",
    "        #add users to the graph nodes\n",
    "        G.add_nodes_from(users)\n",
    "        for i in users:\n",
    "            \n",
    "            #searches the friends of the just retrieved users, and adds graph nodes and edges\n",
    "            friends = getFriendsOf(i)\n",
    "            G.add_nodes_from(friends)\n",
    "                \n",
    "            for j in friends:\n",
    "                    \n",
    "                    G.add_edge(i,j)\n",
    "    else:\n",
    "            \n",
    "        break\n",
    "    \n",
    "    #moves to the next page\n",
    "    page = page + 1\n",
    "\n",
    "#saves the graph\n",
    "f = open('friendshipGraph.pckl', 'wb')\n",
    "pickle.dump(G, f)\n",
    "f.close()"
   ]
  }
 ],
 "metadata": {
  "celltoolbar": "Slideshow",
  "kernelspec": {
   "display_name": "Python 3",
   "language": "python",
   "name": "python3"
  },
  "language_info": {
   "codemirror_mode": {
    "name": "ipython",
    "version": 3
   },
   "file_extension": ".py",
   "mimetype": "text/x-python",
   "name": "python",
   "nbconvert_exporter": "python",
   "pygments_lexer": "ipython3",
   "version": "3.7.4"
  }
 },
 "nbformat": 4,
 "nbformat_minor": 2
}
